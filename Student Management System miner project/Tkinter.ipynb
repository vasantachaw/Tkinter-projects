{
 "cells": [
  {
   "cell_type": "code",
   "execution_count": 1,
   "id": "f095b71a",
   "metadata": {},
   "outputs": [],
   "source": [
    "from tkinter import *"
   ]
  },
  {
   "cell_type": "code",
   "execution_count": 5,
   "id": "46c9bafc",
   "metadata": {},
   "outputs": [],
   "source": [
    "win=Tk()\n",
    "win.title(\"hello\")\n",
    "win.mainloop()"
   ]
  },
  {
   "cell_type": "code",
   "execution_count": 6,
   "id": "7bff4e19",
   "metadata": {},
   "outputs": [],
   "source": [
    "from tkinter import *\n",
    "wind=Tk()\n",
    "wind.iconbitmap(\"ic.ico\")\n",
    "wind.mainloop()"
   ]
  },
  {
   "cell_type": "code",
   "execution_count": 12,
   "id": "4f6e49f1",
   "metadata": {},
   "outputs": [],
   "source": [
    "from tkinter import *\n",
    "winds=Tk()\n",
    "#winds.maxsize(widht=600,height=300)\n",
    "winds.geometry(\"800x500\")\n",
    "winds.mainloop()"
   ]
  },
  {
   "cell_type": "code",
   "execution_count": 15,
   "id": "c15b061a",
   "metadata": {},
   "outputs": [],
   "source": [
    "from tkinter import*\n",
    "win=Tk()\n",
    "win.geometry(\"800x500\")\n",
    "lb1=Label(win,text=\"UserName\")\n",
    "lb1.pack()\n",
    "win.mainloop()"
   ]
  },
  {
   "cell_type": "code",
   "execution_count": 16,
   "id": "e40bd624",
   "metadata": {},
   "outputs": [],
   "source": [
    "from tkinter import*\n",
    "win=Tk()\n",
    "win.geometry(\"800x500\")\n",
    "lb1=Label(win,text=\"UserName\")\n",
    "lb1.grid(row=2,column=2)\n",
    "win.mainloop()"
   ]
  },
  {
   "cell_type": "code",
   "execution_count": 17,
   "id": "b1550f53",
   "metadata": {},
   "outputs": [],
   "source": [
    "from tkinter import *\n",
    "wind=Tk()\n",
    "wind.geometry(\"500x400\")\n",
    "lb1=Label(wind,text=\"BasantaChaw\")\n",
    "lb1.place()\n",
    "wind.mainloop()"
   ]
  },
  {
   "cell_type": "code",
   "execution_count": 1,
   "id": "e72c6a7b",
   "metadata": {},
   "outputs": [],
   "source": [
    "from tkinter import *\n",
    "wind=Tk()\n",
    "wind.geometry(\"500x400\")\n",
    "lb1=Label(wind,text=\"BasantaChaw\",bg=\"red\")\n",
    "lb1.place(x=40,y=20)\n",
    "wind.mainloop()"
   ]
  },
  {
   "cell_type": "code",
   "execution_count": 2,
   "id": "402946e2",
   "metadata": {},
   "outputs": [],
   "source": [
    "from tkinter import *\n",
    "wind=Tk()\n",
    "wind.geometry(\"500x400\")\n",
    "lb1=Label(wind,text=\"BasantaChaw\",fg=\"red\")\n",
    "lb1.place(x=40,y=20)\n",
    "wind.mainloop()"
   ]
  },
  {
   "cell_type": "code",
   "execution_count": 5,
   "id": "318b9a10",
   "metadata": {},
   "outputs": [],
   "source": [
    "from tkinter import *\n",
    "wind=Tk()\n",
    "wind.geometry(\"500x400\")\n",
    "lb1=Label(wind,text=\"BasantaChaw\",bg=\"orange\",fg=\"green\",height=2,width=15)\n",
    "lb1.place(x=40,y=20)\n",
    "wind.mainloop()"
   ]
  },
  {
   "cell_type": "code",
   "execution_count": 3,
   "id": "9e723908",
   "metadata": {},
   "outputs": [],
   "source": [
    "idth=15,font=(\"Arial\",\"8\"))\n",
    "lb1.place(x=20,y=80)"
   ]
  },
  {
   "cell_type": "code",
   "execution_count": 2,
   "id": "b1472da6",
   "metadata": {},
   "outputs": [],
   "source": [
    "from tkinter import *\n",
    "from tkinter import ttk\n",
    "wind=Tk()\n",
    "wind.geometry(\"600x400\")\n",
    "var=StringVar()\n",
    "com=ttk.Combobox(wind,width=27,textvariable=var)\n",
    "com[\"state\"]=\"readonly\"\n",
    "com[\"values\"]=('Basanta','Indu','Roomu','Anuragh')\n",
    "com.current(0)\n",
    "com.place(x=20,y=30)\n",
    "wind.mainloop()"
   ]
  },
  {
   "cell_type": "code",
   "execution_count": 1,
   "id": "369602d0",
   "metadata": {},
   "outputs": [
    {
     "name": "stdout",
     "output_type": "stream",
     "text": [
      "1\n",
      "1\n",
      "0\n"
     ]
    }
   ],
   "source": [
    "from tkinter import *\n",
    "from tkinter import ttk\n",
    "wind=Tk()\n",
    "wind.title(\"CheckButton\")\n",
    "wind.geometry(\"600x500\")\n",
    "wind.iconbitmap(\"ic.ico\")\n",
    "def fun():\n",
    "    print(check1.get())\n",
    "    \n",
    "check1=IntVar()\n",
    "check2=IntVar()\n",
    "select=Checkbutton(wind,text=\"Male\",variable=check1,onvalue=1,offvalue=0)\n",
    "select.place(x=10,y=20)\n",
    "select=Checkbutton(wind,text=\"Female\",variable=check2,onvalue=1,offvalue=0)\n",
    "select.place(x=10,y=40)\n",
    "btn=Button(wind,text=\"Ok\",command=fun)\n",
    "btn.pack()\n",
    "wind.mainloop()"
   ]
  },
  {
   "cell_type": "code",
   "execution_count": 2,
   "id": "7696853d",
   "metadata": {},
   "outputs": [],
   "source": [
    "from tkinter import *\n",
    "from tkinter import ttk\n",
    "win=Tk()\n",
    "win.title(\"Radio Button\")\n",
    "#win.iconbitmap(\"ic.ico\")\n",
    "win.geometry(\"800x600\")\n",
    "def fun():\n",
    "    if var.get()==1:\n",
    "        print(\"Male\")\n",
    "    else:\n",
    "        print(\"Female\")\n",
    "var=IntVar()\n",
    "radio1=Radiobutton(win,text=\"Male\",value=1,variable=var).pack()\n",
    "radio=Radiobutton(win,text=\"Female\",value=0,variable=var).pack()\n",
    "btn=Button(win,text=\"Ok\",command=fun).pack()\n",
    "win.mainloop()"
   ]
  },
  {
   "cell_type": "code",
   "execution_count": 8,
   "id": "3d5b95fc",
   "metadata": {},
   "outputs": [],
   "source": [
    "from tkinter import *\n",
    "from tkinter import ttk\n",
    "win=Tk()\n",
    "win.title(\"Frame\")\n",
    "win.iconbitmap(\"ic.ico\")\n",
    "win.geometry(\"600x400\")\n",
    "header=Frame(win)\n",
    "header.pack()\n",
    "bottom=Frame(win)\n",
    "bottom.pack(side=BOTTOM)\n",
    "label=Label(header,text=\"Header\").pack()\n",
    "label1=Label(bottom,text=\"footer\").pack()\n",
    "win.mainloop()"
   ]
  },
  {
   "cell_type": "code",
   "execution_count": 12,
   "id": "a7594e2c",
   "metadata": {},
   "outputs": [],
   "source": [
    "from tkinter import*\n",
    "from tkinter import ttk\n",
    "from tkinter import messagebox\n",
    "win=Tk()\n",
    "def fun():\n",
    "    if var.get()==\"\":\n",
    "        messagebox.showwarning(\"waring\",\"Empty box\")\n",
    "    else:\n",
    "        messagebox.askyesno(\"succes\",var.get())\n",
    "win.title(\"ShowMessageBox\")\n",
    "win.iconbitmap(\"ic.ico\")\n",
    "win.geometry(\"800x500\")\n",
    "var=StringVar()\n",
    "ent=Entry(win,textvariable=var)\n",
    "ent.pack()\n",
    "btn=Button(win,text=\"click me\",command=fun)\n",
    "btn.pack()\n",
    "win.mainloop()"
   ]
  },
  {
   "cell_type": "code",
   "execution_count": 1,
   "id": "6070e57d",
   "metadata": {},
   "outputs": [],
   "source": [
    "from tkinter import *\n",
    "from tkinter import ttk\n",
    "win=Tk()\n",
    "def fun():\n",
    "    lis.delete(ANCHOR)\n",
    "win.title(\"ListBox\")\n",
    "win.iconbitmap(\"ic.ico\")\n",
    "win.geometry(\"800x500\")\n",
    "lis=Listbox(win,width=27)\n",
    "\n",
    "ls=['Basanta','Chaw','Indu','Chaudhary','Sapana','Dawadi','Rommu','Dny']\n",
    "for i in ls:\n",
    "    lis.insert(END,i)\n",
    "lis.pack()\n",
    "btn=Button(win,text=\"ok\",command=fun)\n",
    "btn.pack()\n",
    "win.mainloop()\n"
   ]
  },
  {
   "cell_type": "code",
   "execution_count": 1,
   "id": "10d4f1f1",
   "metadata": {},
   "outputs": [],
   "source": [
    "from tkinter import *\n",
    "from tkinter import ttk\n",
    "win=Tk()\n",
    "win.title(\"Tolevel\")\n",
    "win.iconbitmap(\"ic.ico\")\n",
    "win.geometry(\"800x500\")\n",
    "def fun():\n",
    "    top.destroy()\n",
    "def fun1():\n",
    "    win.destroy()\n",
    "top=Toplevel()\n",
    "btn=Button(top,text=\"Yop\",command=fun).pack()\n",
    "btn1=Button(win,text=\"Ok\",command=fun1).pack()\n",
    "top.mainloop()"
   ]
  },
  {
   "cell_type": "code",
   "execution_count": 2,
   "id": "ed8ae788",
   "metadata": {},
   "outputs": [],
   "source": [
    "from tkinter import*\n",
    "from tkinter import ttk\n",
    "win=Tk()\n",
    "win.title(\"Progress bar\")\n",
    "win.iconbitmap(\"ic.ico\")\n",
    "win.geometry(\"700x400\")\n",
    "def bar():\n",
    "    import time\n",
    "    progress['value']=20\n",
    "    progress.update_idletasks()\n",
    "    time.sleep(1)\n",
    "    \n",
    "progress=ttk.Progressbar(win,orient=HORIZONTAL,mod='indeterminate')\n",
    "progress.pack()\n",
    "btn=Button(win,text=\"start\",command=bar)\n",
    "btn.pack()\n",
    "win.mainloop()"
   ]
  },
  {
   "cell_type": "code",
   "execution_count": 14,
   "id": "014ec80f",
   "metadata": {},
   "outputs": [],
   "source": [
    "from tkinter import *\n",
    "from tkinter import ttk\n",
    "win=Tk()\n",
    "win.title(\"Scrollbar\")\n",
    "win.geometry(\"700x500\")\n",
    "scroll=Scrollbar(win)\n",
    "scroll.pack(side=RIGHT,fill=Y)\n",
    "mlis=Listbox(win,yscrollcommand=Y)\n",
    "mlis.pack(side=LEFT,fill=Y)\n",
    "li=['apple','orange','banana','graps','papaya']\n",
    "for i in range(100):\n",
    "    mlis.insert(END,i)\n",
    "scroll.config(command=mlis.yview)\n",
    "win.mainloop()"
   ]
  },
  {
   "cell_type": "code",
   "execution_count": 4,
   "id": "193da360",
   "metadata": {},
   "outputs": [],
   "source": [
    "from tkinter import *\n",
    "from tkinter import ttk\n",
    "win=Tk()\n",
    "win.title(\"Menu\")\n",
    "win.geometry(\"600x400\")\n",
    "menus=Menu(win)\n",
    "win.config(menu=menus)\n",
    "fileMenu=Menu(menus)\n",
    "menus.add_cascade(label=\"file\",menu=fileMenu)\n",
    "edit=Menu(menus)\n",
    "menus.add_cascade(label=\"Edit\",menu=edit)\n",
    "option=Menu(menus)\n",
    "menus.add_cascade(label=\"option\",menu=option)\n",
    "win.mainloop()"
   ]
  },
  {
   "cell_type": "code",
   "execution_count": 60,
   "id": "98d990ee",
   "metadata": {},
   "outputs": [],
   "source": [
    "from tkinter import *\n",
    "from tkinter import ttk\n",
    "win=Tk()\n",
    "win.title(\"Menu\")\n",
    "win.geometry(\"600x400\")\n",
    "menus=Menu(win)\n",
    "win.config(menu=menus)\n",
    "fileMenu=Menu(menus)\n",
    "menus.add_cascade(label=\"file\",menu=fileMenu)\n",
    "edit=Menu(menus)\n",
    "fileMenu.add_cascade(label=\"Edit\")\n",
    "fileMenu.add_separator()\n",
    "option=Menu(menus)\n",
    "fileMenu.add_cascade(label=\"option\")\n",
    "win.mainloop()"
   ]
  },
  {
   "cell_type": "code",
   "execution_count": 78,
   "id": "b9752134",
   "metadata": {},
   "outputs": [],
   "source": [
    "from tkinter import *\n",
    "from tkinter import ttk\n",
    "win=Tk()\n",
    "win.title(\"Image\")\n",
    "win.geometry(\"700x500\")\n",
    "files=PhotoImage(file=\"qrcode.png\")\n",
    "pl=Label(win,image=files)\n",
    "pl.pack()\n",
    "win.mainloop()"
   ]
  },
  {
   "cell_type": "code",
   "execution_count": 110,
   "id": "d0e1a7bb",
   "metadata": {},
   "outputs": [],
   "source": [
    "from tkinter import *\n",
    "from tkinter import ttk\n",
    "win=Tk()\n",
    "win.title(\"_Login\")\n",
    "win.iconbitmap('Image/ic.ico')\n",
    "win.geometry('700x400')\n",
    "qrcode=PhotoImage(file='Image/qrcode.png')\n",
    "top=Frame(win,height=200,bg='lightblue')\n",
    "qrlabel=Label(top,image=qrcode,height=150)\n",
    "qrlabel.pack(side=LEFT)\n",
    "top.pack(fill=X)\n",
    "win.mainloop()"
   ]
  },
  {
   "cell_type": "code",
   "execution_count": null,
   "id": "29ce2619",
   "metadata": {},
   "outputs": [],
   "source": []
  }
 ],
 "metadata": {
  "kernelspec": {
   "display_name": "Python 3 (ipykernel)",
   "language": "python",
   "name": "python3"
  },
  "language_info": {
   "codemirror_mode": {
    "name": "ipython",
    "version": 3
   },
   "file_extension": ".py",
   "mimetype": "text/x-python",
   "name": "python",
   "nbconvert_exporter": "python",
   "pygments_lexer": "ipython3",
   "version": "3.10.5"
  }
 },
 "nbformat": 4,
 "nbformat_minor": 5
}
